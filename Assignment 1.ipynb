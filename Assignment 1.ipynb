{
 "cells": [
  {
   "cell_type": "markdown",
   "id": "64f04340",
   "metadata": {},
   "source": [
    "## Set up the environment\n",
    "You need to install Python, NumPy, Pandas, Matplotlib and Seaborn. For that, you can the instructions from 06-environment.md.\n",
    "\n",
    "### Question 1\n",
    "What's the version of Pandas that you installed?\n",
    "\n",
    "You can get the version information using the __version__ field:"
   ]
  },
  {
   "cell_type": "code",
   "execution_count": 51,
   "id": "cad69bea",
   "metadata": {},
   "outputs": [],
   "source": [
    "import pandas as pd\n",
    "import numpy as np"
   ]
  },
  {
   "cell_type": "code",
   "execution_count": 52,
   "id": "800339dc",
   "metadata": {},
   "outputs": [
    {
     "data": {
      "text/plain": [
       "'1.4.2'"
      ]
     },
     "execution_count": 52,
     "metadata": {},
     "output_type": "execute_result"
    }
   ],
   "source": [
    "pd.__version__"
   ]
  },
  {
   "cell_type": "markdown",
   "id": "28a179a3",
   "metadata": {},
   "source": [
    "### Getting the data\n",
    "For this homework, we'll use the California Housing Prices dataset."
   ]
  },
  {
   "cell_type": "code",
   "execution_count": 53,
   "id": "fb5b5088",
   "metadata": {},
   "outputs": [],
   "source": [
    "df = pd.read_csv(\"master_housing.csv\")"
   ]
  },
  {
   "cell_type": "markdown",
   "id": "d41d337a",
   "metadata": {},
   "source": [
    "### Question 2\n",
    "How many columns are in the dataset?"
   ]
  },
  {
   "cell_type": "code",
   "execution_count": 54,
   "id": "f4200eac",
   "metadata": {},
   "outputs": [
    {
     "data": {
      "text/plain": [
       "(20640, 10)"
      ]
     },
     "execution_count": 54,
     "metadata": {},
     "output_type": "execute_result"
    }
   ],
   "source": [
    "df.shape"
   ]
  },
  {
   "cell_type": "markdown",
   "id": "b57189be",
   "metadata": {},
   "source": [
    "### Question 3\n",
    "Which columns in the dataset have missing values?"
   ]
  },
  {
   "cell_type": "code",
   "execution_count": 55,
   "id": "fa99c9f7",
   "metadata": {},
   "outputs": [
    {
     "data": {
      "text/plain": [
       "longitude               0\n",
       "latitude                0\n",
       "housing_median_age      0\n",
       "total_rooms             0\n",
       "total_bedrooms        207\n",
       "population              0\n",
       "households              0\n",
       "median_income           0\n",
       "median_house_value      0\n",
       "ocean_proximity         0\n",
       "dtype: int64"
      ]
     },
     "execution_count": 55,
     "metadata": {},
     "output_type": "execute_result"
    }
   ],
   "source": [
    "df.isnull().sum()"
   ]
  },
  {
   "cell_type": "markdown",
   "id": "f77155a2",
   "metadata": {},
   "source": [
    "### Question 4\n",
    "How many unique values does the ocean_proximity column have?"
   ]
  },
  {
   "cell_type": "code",
   "execution_count": 56,
   "id": "eaf4e614",
   "metadata": {},
   "outputs": [
    {
     "data": {
      "text/plain": [
       "5"
      ]
     },
     "execution_count": 56,
     "metadata": {},
     "output_type": "execute_result"
    }
   ],
   "source": [
    "df['ocean_proximity'].nunique()"
   ]
  },
  {
   "cell_type": "markdown",
   "id": "462becb3",
   "metadata": {},
   "source": [
    "### Question 5\n",
    "What's the average value of the median_house_value for the houses located near the bay?"
   ]
  },
  {
   "cell_type": "code",
   "execution_count": 57,
   "id": "10353615",
   "metadata": {},
   "outputs": [
    {
     "data": {
      "text/plain": [
       "259212.31179039303"
      ]
     },
     "execution_count": 57,
     "metadata": {},
     "output_type": "execute_result"
    }
   ],
   "source": [
    "df[df.ocean_proximity == 'NEAR BAY'].median_house_value.mean()"
   ]
  },
  {
   "cell_type": "markdown",
   "id": "0a2fee34",
   "metadata": {},
   "source": [
    "### Question 6\n",
    "Has the mean value changed after filling missing values?"
   ]
  },
  {
   "cell_type": "code",
   "execution_count": 58,
   "id": "4a853e5a",
   "metadata": {},
   "outputs": [
    {
     "name": "stdout",
     "output_type": "stream",
     "text": [
      "537.8705525375618\n",
      "537.8705525375639\n"
     ]
    }
   ],
   "source": [
    "mean_value = df.total_bedrooms.mean()\n",
    "print(mean_value)\n",
    "new_mean_value = df.total_bedrooms.fillna(mean_value).mean()\n",
    "print(new_mean_value)"
   ]
  },
  {
   "cell_type": "markdown",
   "id": "fdb6c8fc",
   "metadata": {},
   "source": [
    "### Questions 7\n",
    "Value of the last element of w"
   ]
  },
  {
   "cell_type": "code",
   "execution_count": 59,
   "id": "0d6e5bcc",
   "metadata": {},
   "outputs": [
    {
     "name": "stdout",
     "output_type": "stream",
     "text": [
      "NEAR BAY\n",
      "<1H OCEAN\n",
      "INLAND\n",
      "NEAR OCEAN\n",
      "ISLAND\n"
     ]
    }
   ],
   "source": [
    "unique_features = df['ocean_proximity'].unique()\n",
    "for feature in unique_features:\n",
    "    print(feature)"
   ]
  },
  {
   "cell_type": "code",
   "execution_count": 60,
   "id": "30c514e7",
   "metadata": {},
   "outputs": [
    {
     "data": {
      "text/plain": [
       "0.001008353058981917"
      ]
     },
     "execution_count": 60,
     "metadata": {},
     "output_type": "execute_result"
    }
   ],
   "source": [
    "d_is = df[df.ocean_proximity == \"ISLAND\"]\n",
    "d_is = d_is[[\"housing_median_age\", \"total_rooms\", \"total_bedrooms\"]]\n",
    "d_is = d_is.drop_duplicates()\n",
    "\n",
    "X = d_is.values\n",
    "XTX = X.T.dot(X)\n",
    "\n",
    "XTX_inv = np.linalg.inv(XTX)\n",
    "XTX_inv.sum()"
   ]
  },
  {
   "cell_type": "code",
   "execution_count": 61,
   "id": "fed74313",
   "metadata": {},
   "outputs": [
    {
     "data": {
      "text/plain": [
       "23.123309612152653"
      ]
     },
     "execution_count": 61,
     "metadata": {},
     "output_type": "execute_result"
    }
   ],
   "source": [
    "y = [950, 1300, 800, 1000, 1300]\n",
    "w = XTX_inv.dot(X.T).dot(y)\n",
    "w[0]"
   ]
  },
  {
   "cell_type": "code",
   "execution_count": null,
   "id": "e9b0f659",
   "metadata": {},
   "outputs": [],
   "source": []
  }
 ],
 "metadata": {
  "kernelspec": {
   "display_name": "Python 3 (ipykernel)",
   "language": "python",
   "name": "python3"
  },
  "language_info": {
   "codemirror_mode": {
    "name": "ipython",
    "version": 3
   },
   "file_extension": ".py",
   "mimetype": "text/x-python",
   "name": "python",
   "nbconvert_exporter": "python",
   "pygments_lexer": "ipython3",
   "version": "3.9.12"
  }
 },
 "nbformat": 4,
 "nbformat_minor": 5
}
